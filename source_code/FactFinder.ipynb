{
 "cells": [
  {
   "cell_type": "code",
   "execution_count": 1,
   "id": "c0c6a8c9",
   "metadata": {},
   "outputs": [],
   "source": [
    "import numpy as np\n",
    "import pandas as pd\n",
    "from sklearn.feature_extraction.text import TfidfVectorizer\n",
    "from sklearn.model_selection import train_test_split\n",
    "from sklearn.linear_model import  LogisticRegression\n",
    "from sklearn.metrics import accuracy_score, classification_report\n",
    "import re\n",
    "import string"
   ]
  },
  {
   "cell_type": "code",
   "execution_count": 2,
   "id": "f1aff9a6",
   "metadata": {},
   "outputs": [],
   "source": [
    "fake_news_path = \"C:\\\\Users\\\\89tom\\\\OneDrive\\\\Desktop\\\\Pace\\\\Forth Semester\\\\DataScienceCS675\\\\Project\\\\fake_news\\\\Fake.csv\" \n",
    "actual_news_path = \"C:\\\\Users\\\\89tom\\\\OneDrive\\\\Desktop\\\\Pace\\\\Forth Semester\\\\DataScienceCS675\\\\Project\\\\fake_news\\\\True.csv\""
   ]
  },
  {
   "cell_type": "code",
   "execution_count": 3,
   "id": "c5e90263",
   "metadata": {},
   "outputs": [],
   "source": [
    "# importing fake news dataset\n",
    "df_fake = pd.read_csv(fake_news_path)\n",
    "#importing actual news\n",
    "df_actual = pd.read_csv(actual_news_path)\n"
   ]
  },
  {
   "cell_type": "code",
   "execution_count": 4,
   "id": "a68c2155",
   "metadata": {},
   "outputs": [
    {
     "data": {
      "text/html": [
       "<div>\n",
       "<style scoped>\n",
       "    .dataframe tbody tr th:only-of-type {\n",
       "        vertical-align: middle;\n",
       "    }\n",
       "\n",
       "    .dataframe tbody tr th {\n",
       "        vertical-align: top;\n",
       "    }\n",
       "\n",
       "    .dataframe thead th {\n",
       "        text-align: right;\n",
       "    }\n",
       "</style>\n",
       "<table border=\"1\" class=\"dataframe\">\n",
       "  <thead>\n",
       "    <tr style=\"text-align: right;\">\n",
       "      <th></th>\n",
       "      <th>title</th>\n",
       "      <th>text</th>\n",
       "      <th>subject</th>\n",
       "      <th>date</th>\n",
       "      <th>classification</th>\n",
       "    </tr>\n",
       "  </thead>\n",
       "  <tbody>\n",
       "    <tr>\n",
       "      <th>0</th>\n",
       "      <td>Donald Trump Sends Out Embarrassing New Year’...</td>\n",
       "      <td>Donald Trump just couldn t wish all Americans ...</td>\n",
       "      <td>News</td>\n",
       "      <td>December 31, 2017</td>\n",
       "      <td>1</td>\n",
       "    </tr>\n",
       "    <tr>\n",
       "      <th>1</th>\n",
       "      <td>Drunk Bragging Trump Staffer Started Russian ...</td>\n",
       "      <td>House Intelligence Committee Chairman Devin Nu...</td>\n",
       "      <td>News</td>\n",
       "      <td>December 31, 2017</td>\n",
       "      <td>1</td>\n",
       "    </tr>\n",
       "    <tr>\n",
       "      <th>2</th>\n",
       "      <td>Sheriff David Clarke Becomes An Internet Joke...</td>\n",
       "      <td>On Friday, it was revealed that former Milwauk...</td>\n",
       "      <td>News</td>\n",
       "      <td>December 30, 2017</td>\n",
       "      <td>1</td>\n",
       "    </tr>\n",
       "    <tr>\n",
       "      <th>3</th>\n",
       "      <td>Trump Is So Obsessed He Even Has Obama’s Name...</td>\n",
       "      <td>On Christmas day, Donald Trump announced that ...</td>\n",
       "      <td>News</td>\n",
       "      <td>December 29, 2017</td>\n",
       "      <td>1</td>\n",
       "    </tr>\n",
       "    <tr>\n",
       "      <th>4</th>\n",
       "      <td>Pope Francis Just Called Out Donald Trump Dur...</td>\n",
       "      <td>Pope Francis used his annual Christmas Day mes...</td>\n",
       "      <td>News</td>\n",
       "      <td>December 25, 2017</td>\n",
       "      <td>1</td>\n",
       "    </tr>\n",
       "  </tbody>\n",
       "</table>\n",
       "</div>"
      ],
      "text/plain": [
       "                                               title  \\\n",
       "0   Donald Trump Sends Out Embarrassing New Year’...   \n",
       "1   Drunk Bragging Trump Staffer Started Russian ...   \n",
       "2   Sheriff David Clarke Becomes An Internet Joke...   \n",
       "3   Trump Is So Obsessed He Even Has Obama’s Name...   \n",
       "4   Pope Francis Just Called Out Donald Trump Dur...   \n",
       "\n",
       "                                                text subject  \\\n",
       "0  Donald Trump just couldn t wish all Americans ...    News   \n",
       "1  House Intelligence Committee Chairman Devin Nu...    News   \n",
       "2  On Friday, it was revealed that former Milwauk...    News   \n",
       "3  On Christmas day, Donald Trump announced that ...    News   \n",
       "4  Pope Francis used his annual Christmas Day mes...    News   \n",
       "\n",
       "                date  classification  \n",
       "0  December 31, 2017               1  \n",
       "1  December 31, 2017               1  \n",
       "2  December 30, 2017               1  \n",
       "3  December 29, 2017               1  \n",
       "4  December 25, 2017               1  "
      ]
     },
     "execution_count": 4,
     "metadata": {},
     "output_type": "execute_result"
    }
   ],
   "source": [
    "df_fake['classification'] = 1\n",
    "df_actual['classification'] = 0\n",
    "#combining both datasets\n",
    "df = pd.concat([df_fake,df_actual],axis=0)\n",
    "df.head()"
   ]
  },
  {
   "cell_type": "code",
   "execution_count": 5,
   "id": "df5fcf7f",
   "metadata": {},
   "outputs": [
    {
     "data": {
      "text/html": [
       "<div>\n",
       "<style scoped>\n",
       "    .dataframe tbody tr th:only-of-type {\n",
       "        vertical-align: middle;\n",
       "    }\n",
       "\n",
       "    .dataframe tbody tr th {\n",
       "        vertical-align: top;\n",
       "    }\n",
       "\n",
       "    .dataframe thead th {\n",
       "        text-align: right;\n",
       "    }\n",
       "</style>\n",
       "<table border=\"1\" class=\"dataframe\">\n",
       "  <thead>\n",
       "    <tr style=\"text-align: right;\">\n",
       "      <th></th>\n",
       "      <th>title</th>\n",
       "      <th>text</th>\n",
       "      <th>subject</th>\n",
       "      <th>date</th>\n",
       "      <th>classification</th>\n",
       "    </tr>\n",
       "  </thead>\n",
       "  <tbody>\n",
       "    <tr>\n",
       "      <th>0</th>\n",
       "      <td>Trump’s Excuse For All His Sexist Statements ...</td>\n",
       "      <td>In case you ve been living under a rock for yo...</td>\n",
       "      <td>News</td>\n",
       "      <td>March 28, 2016</td>\n",
       "      <td>1</td>\n",
       "    </tr>\n",
       "    <tr>\n",
       "      <th>1</th>\n",
       "      <td>Mexican police arrest suspect in crime journal...</td>\n",
       "      <td>MEXICO CITY (Reuters) - A man alleged to be be...</td>\n",
       "      <td>worldnews</td>\n",
       "      <td>December 26, 2017</td>\n",
       "      <td>0</td>\n",
       "    </tr>\n",
       "    <tr>\n",
       "      <th>2</th>\n",
       "      <td>U.S. approves license for Ukraine to buy small...</td>\n",
       "      <td>WASHINGTON (Reuters) - The U.S. State Departme...</td>\n",
       "      <td>worldnews</td>\n",
       "      <td>December 21, 2017</td>\n",
       "      <td>0</td>\n",
       "    </tr>\n",
       "    <tr>\n",
       "      <th>3</th>\n",
       "      <td>U.S. governors, hackers, academics team up to ...</td>\n",
       "      <td>(Reuters) - Hackers are joining forces with U....</td>\n",
       "      <td>politicsNews</td>\n",
       "      <td>October 9, 2017</td>\n",
       "      <td>0</td>\n",
       "    </tr>\n",
       "    <tr>\n",
       "      <th>4</th>\n",
       "      <td>Five Facts About The Obama Economy That Trump...</td>\n",
       "      <td>Trump likes to pretend he was handed  a mess  ...</td>\n",
       "      <td>News</td>\n",
       "      <td>March 3, 2017</td>\n",
       "      <td>1</td>\n",
       "    </tr>\n",
       "  </tbody>\n",
       "</table>\n",
       "</div>"
      ],
      "text/plain": [
       "                                               title  \\\n",
       "0   Trump’s Excuse For All His Sexist Statements ...   \n",
       "1  Mexican police arrest suspect in crime journal...   \n",
       "2  U.S. approves license for Ukraine to buy small...   \n",
       "3  U.S. governors, hackers, academics team up to ...   \n",
       "4   Five Facts About The Obama Economy That Trump...   \n",
       "\n",
       "                                                text       subject  \\\n",
       "0  In case you ve been living under a rock for yo...          News   \n",
       "1  MEXICO CITY (Reuters) - A man alleged to be be...     worldnews   \n",
       "2  WASHINGTON (Reuters) - The U.S. State Departme...     worldnews   \n",
       "3  (Reuters) - Hackers are joining forces with U....  politicsNews   \n",
       "4  Trump likes to pretend he was handed  a mess  ...          News   \n",
       "\n",
       "                 date  classification  \n",
       "0      March 28, 2016               1  \n",
       "1  December 26, 2017                0  \n",
       "2  December 21, 2017                0  \n",
       "3    October 9, 2017                0  \n",
       "4       March 3, 2017               1  "
      ]
     },
     "execution_count": 5,
     "metadata": {},
     "output_type": "execute_result"
    }
   ],
   "source": [
    "#Shuffling all the rows randomly\n",
    "df = df.sample(frac = 1).reset_index(drop=True)\n",
    "df.head()"
   ]
  },
  {
   "cell_type": "code",
   "execution_count": 6,
   "id": "68b67655",
   "metadata": {},
   "outputs": [
    {
     "data": {
      "text/plain": [
       "title             0\n",
       "text              0\n",
       "subject           0\n",
       "date              0\n",
       "classification    0\n",
       "content           0\n",
       "dtype: int64"
      ]
     },
     "execution_count": 6,
     "metadata": {},
     "output_type": "execute_result"
    }
   ],
   "source": [
    "#merging both title and text columns\n",
    "df['content'] = df['title'] + df['text']\n",
    "df.isnull().sum()"
   ]
  },
  {
   "cell_type": "code",
   "execution_count": 7,
   "id": "1b73ca89",
   "metadata": {},
   "outputs": [],
   "source": [
    "# Removing special characters from dataset\n",
    "def replace_text(text):\n",
    "    new_text = text.lower()\n",
    "    new_text = re.sub('\\[.*?\\]','',new_text)\n",
    "    new_text = re.sub(\"\\\\W\",\"\",new_text)\n",
    "    new_text = re.sub('https?://\\S+|www\\.\\S+','',new_text)\n",
    "    new_text = re.sub('<.*?>+','',new_text)\n",
    "    new_text = re.sub('\\n','',new_text)\n",
    "    new_text = re.sub('\\w*\\d\\w*','',new_text)\n",
    "    new_text = re.sub('[%s]'% re.escape(string.punctuation),'',new_text)\n",
    "    return new_text"
   ]
  },
  {
   "cell_type": "code",
   "execution_count": 8,
   "id": "6069a3a9",
   "metadata": {},
   "outputs": [
    {
     "name": "stdout",
     "output_type": "stream",
     "text": [
      "              precision    recall  f1-score   support\n",
      "\n",
      "           0       1.00      0.01      0.02      5390\n",
      "           1       0.52      1.00      0.69      5835\n",
      "\n",
      "    accuracy                           0.52     11225\n",
      "   macro avg       0.76      0.50      0.35     11225\n",
      "weighted avg       0.75      0.52      0.37     11225\n",
      "\n"
     ]
    }
   ],
   "source": [
    "df['content'] = df['content'].apply(replace_text)\n",
    "X = df['content']\n",
    "y = df['classification']\n",
    "\n",
    "# vectorizing the data\n",
    "vectorization = TfidfVectorizer()\n",
    "X_vector = vectorization.fit_transform(X)\n",
    "\n",
    "X_train, X_test, y_train,y_test = train_test_split(X_vector,y,test_size=0.25,random_state=42)\n",
    "\n",
    "# fitting the data to the model\n",
    "model = LogisticRegression()\n",
    "model.fit(X_train,y_train)\n",
    "model.score(X_test,y_test)\n",
    "\n",
    "y_pred = model.predict(X_test)\n",
    "accuracy_score(y_test,y_pred)\n",
    "\n",
    "print(classification_report(y_test,y_pred))"
   ]
  },
  {
   "cell_type": "code",
   "execution_count": null,
   "id": "92fa29a6",
   "metadata": {},
   "outputs": [],
   "source": []
  }
 ],
 "metadata": {
  "kernelspec": {
   "display_name": "Python 3 (ipykernel)",
   "language": "python",
   "name": "python3"
  },
  "language_info": {
   "codemirror_mode": {
    "name": "ipython",
    "version": 3
   },
   "file_extension": ".py",
   "mimetype": "text/x-python",
   "name": "python",
   "nbconvert_exporter": "python",
   "pygments_lexer": "ipython3",
   "version": "3.11.4"
  }
 },
 "nbformat": 4,
 "nbformat_minor": 5
}
